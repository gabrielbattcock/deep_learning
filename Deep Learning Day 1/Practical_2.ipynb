{
 "cells": [
  {
   "cell_type": "markdown",
   "id": "a8aee2ce",
   "metadata": {},
   "source": [
    "# Logistic Regression"
   ]
  },
  {
   "cell_type": "markdown",
   "id": "b00081b4",
   "metadata": {},
   "source": [
    "### Reading Files and Loading Data"
   ]
  },
  {
   "cell_type": "code",
   "execution_count": null,
   "id": "38f3662a",
   "metadata": {},
   "outputs": [],
   "source": [
    "import matplotlib.pyplot as plt\n",
    "import pandas as pd\n",
    "import numpy as np\n",
    "import seaborn as sns"
   ]
  },
  {
   "cell_type": "code",
   "execution_count": null,
   "id": "1d9fff57",
   "metadata": {},
   "outputs": [],
   "source": [
    "#load the dataset\n",
    "import pandas as pd\n",
    "data = pd.read_csv(\"C:\\\\Users\\\\LSHMH20\\\\Downloads\\\\ML stuff\\\\diabetes_dataset\\\\diabetes_012_health_indicators_BRFSS2015.csv\")"
   ]
  },
  {
   "cell_type": "code",
   "execution_count": null,
   "id": "5d6b0d35",
   "metadata": {},
   "outputs": [],
   "source": [
    "data.head(5)"
   ]
  },
  {
   "cell_type": "markdown",
   "id": "c73f2e8c",
   "metadata": {},
   "source": [
    "Exercise 1: Check for Missing Values and Duplicates and apply pre-processing that will convert 'diabetes' into a binary variable"
   ]
  },
  {
   "cell_type": "markdown",
   "id": "43635320",
   "metadata": {},
   "source": [
    "### Fitting LR Model"
   ]
  },
  {
   "cell_type": "markdown",
   "id": "a92c52de",
   "metadata": {},
   "source": [
    "Now, let's do a logistic regression example to predict patients who have diabetes based on their attributes."
   ]
  },
  {
   "cell_type": "code",
   "execution_count": null,
   "id": "7023d8be",
   "metadata": {},
   "outputs": [],
   "source": [
    "#install libraries\n",
    "pip install -U scikit-learn"
   ]
  },
  {
   "cell_type": "code",
   "execution_count": null,
   "id": "0cd38076",
   "metadata": {},
   "outputs": [],
   "source": [
    "#import libraries for LR\n",
    "from sklearn.linear_model import LogisticRegression\n",
    "from sklearn.metrics import confusion_matrix\n",
    "from sklearn.metrics import ConfusionMatrixDisplay\n",
    "from sklearn.model_selection import train_test_split\n",
    "from sklearn import metrics"
   ]
  },
  {
   "cell_type": "code",
   "execution_count": null,
   "id": "f7daf863",
   "metadata": {},
   "outputs": [],
   "source": [
    "#split data into X and Y variables\n",
    "X=data.drop(\"Diabetes_012\",axis=1)\n",
    "Y=data[\"Diabetes_012\"]"
   ]
  },
  {
   "cell_type": "code",
   "execution_count": null,
   "id": "dd8b50a5",
   "metadata": {},
   "outputs": [],
   "source": [
    "#train/test split\n",
    "X_train , X_test , Y_train , Y_test = train_test_split(X,Y, test_size=0.25 , random_state=42)"
   ]
  },
  {
   "cell_type": "markdown",
   "id": "3c1d8ecd",
   "metadata": {},
   "source": [
    "Once we split the data into training and testing sets, we fit the model"
   ]
  },
  {
   "cell_type": "code",
   "execution_count": null,
   "id": "0865ae17",
   "metadata": {},
   "outputs": [],
   "source": [
    "#logistic regression model\n",
    "lg = LogisticRegression(max_iter = 1500)\n",
    "lg.fit(X_train , Y_train)"
   ]
  },
  {
   "cell_type": "markdown",
   "id": "036b9a8d",
   "metadata": {},
   "source": [
    "Now, we make predictions based on the fitted model"
   ]
  },
  {
   "cell_type": "code",
   "execution_count": null,
   "id": "755088a8",
   "metadata": {},
   "outputs": [],
   "source": [
    "# make predictions on test set\n",
    "y_pred=lg.predict(X_test)\n",
    "\n",
    "print('Training set score: {:.4f}'.format(lg.score(X_train, Y_train)))\n",
    "\n",
    "print('Test set score: {:.4f}'.format(lg.score(X_test, Y_test)))"
   ]
  },
  {
   "cell_type": "code",
   "execution_count": null,
   "id": "6aa12370",
   "metadata": {},
   "outputs": [],
   "source": [
    "# calculating and plotting the confusion matrix\n",
    "cm = metrics.confusion_matrix(Y_test,y_pred)\n",
    "#plot_confusion_matrix(conf_mat=cm1,show_absolute=True,\n",
    "                                #show_normed=True,\n",
    "                                #colorbar=True)\n",
    "cm = confusion_matrix(Y_test, y_pred)\n",
    "\n",
    "cm_display = ConfusionMatrixDisplay(cm).plot()"
   ]
  },
  {
   "cell_type": "markdown",
   "id": "547bdd94",
   "metadata": {},
   "source": [
    "How should we interpret the confusion matrix?"
   ]
  },
  {
   "cell_type": "markdown",
   "id": "97527711",
   "metadata": {},
   "source": [
    "Exercise 2: Try now to optimize the LR model by only using a subset of the variables. Does this improve the train/test accuracy?"
   ]
  },
  {
   "cell_type": "markdown",
   "id": "a7ac5c02",
   "metadata": {},
   "source": [
    "Exercise 3: Experiment with the train/test split size and whether it is stratified. \n",
    "See https://scikit-learn.org/stable/modules/generated/sklearn.model_selection.train_test_split.html for documentation"
   ]
  },
  {
   "cell_type": "code",
   "execution_count": null,
   "id": "5ed0311a",
   "metadata": {},
   "outputs": [],
   "source": [
    "#define metrics\n",
    "y_pred_proba = lg.predict_proba(X_test)[::,1]\n",
    "fpr, tpr, _ = metrics.roc_curve(Y_test,  y_pred_proba)\n",
    "\n",
    "#create ROC curve\n",
    "plt.plot(fpr,tpr)\n",
    "plt.ylabel('True Positive Rate')\n",
    "plt.xlabel('False Positive Rate')\n",
    "plt.show()"
   ]
  },
  {
   "cell_type": "code",
   "execution_count": null,
   "id": "c6c205b1",
   "metadata": {},
   "outputs": [],
   "source": [
    "#calculate auc\n",
    "auc = metrics.roc_auc_score(Y_test, y_pred_proba)\n",
    "auc"
   ]
  },
  {
   "cell_type": "markdown",
   "id": "b3b372ae",
   "metadata": {},
   "source": [
    "Exercise 4: Compare ROC curve for your various models. Which version has the highest AUC?"
   ]
  },
  {
   "cell_type": "markdown",
   "id": "77a5325b",
   "metadata": {},
   "source": [
    "### LR to Neural Network"
   ]
  },
  {
   "cell_type": "markdown",
   "id": "c66c698b",
   "metadata": {},
   "source": [
    "Now we will replicate the LR model above as a neural network and compare the results."
   ]
  },
  {
   "cell_type": "markdown",
   "id": "b07a4da0",
   "metadata": {},
   "source": [
    "Exercise 5: Run the neural network and compare the ROC/AUC to the LR example."
   ]
  },
  {
   "cell_type": "code",
   "execution_count": null,
   "id": "1eab7ce7",
   "metadata": {},
   "outputs": [],
   "source": [
    "#install \n",
    "pip install tensorflow"
   ]
  },
  {
   "cell_type": "code",
   "execution_count": null,
   "id": "aced8c01",
   "metadata": {},
   "outputs": [],
   "source": [
    "import tensorflow as tf\n",
    "from keras.models import Sequential\n",
    "from tensorflow.keras.layers import InputLayer\n",
    "from tensorflow.keras.layers import Dense"
   ]
  },
  {
   "cell_type": "code",
   "execution_count": null,
   "id": "fc2a688c",
   "metadata": {},
   "outputs": [],
   "source": [
    "n_features = X_train.shape[1]\n",
    "ANN_model = Sequential()\n",
    "ANN_model.add(InputLayer(input_shape=(n_features, )))\n",
    "ANN_model.add(Dense(1, activation='sigmoid'))"
   ]
  },
  {
   "cell_type": "code",
   "execution_count": null,
   "id": "e0cf517f",
   "metadata": {},
   "outputs": [],
   "source": [
    "optimizer=tf.keras.optimizers.Adam(learning_rate=0.05)\n",
    "ANN_model.compile(optimizer=optimizer,\n",
    "                  loss='binary_crossentropy',\n",
    "                  metrics=['accuracy'])"
   ]
  },
  {
   "cell_type": "code",
   "execution_count": null,
   "id": "0687e8aa",
   "metadata": {},
   "outputs": [],
   "source": [
    "history = ANN_model.fit(X_train, Y_train, \n",
    "                        epochs=5, batch_size=32,\n",
    "                        validation_split=0.25, \n",
    "                        shuffle=False)"
   ]
  },
  {
   "cell_type": "code",
   "execution_count": null,
   "id": "e4fe58bf",
   "metadata": {},
   "outputs": [],
   "source": [
    "#make predictions\n",
    "preds=ANN_model.predict(X_test)"
   ]
  },
  {
   "cell_type": "code",
   "execution_count": null,
   "id": "32064f08",
   "metadata": {},
   "outputs": [],
   "source": [
    "#plot ROC\n",
    "fpr, tpr, _ = metrics.roc_curve(Y_test, preds)\n",
    "roc_auc = metrics.auc(fpr, tpr)\n",
    "plt.figure()\n",
    "lw = 2\n",
    "plt.plot(fpr, tpr, color='darkorange',\n",
    "lw=lw, label='ROC curve (area = %0.2f)' % roc_auc)\n",
    "plt.plot([0, 1], [0, 1], color='navy', lw=lw, linestyle='--')\n",
    "plt.xlim([0.0, 1.0])\n",
    "plt.ylim([0.0, 1.05])\n",
    "plt.xlabel('False Positive Rate')\n",
    "plt.ylabel('True Positive Rate')\n",
    "plt.title('Receiver operating characteristic example')\n",
    "plt.legend(loc=\"lower right\")\n",
    "plt.show()"
   ]
  }
 ],
 "metadata": {
  "kernelspec": {
   "display_name": "Python 3 (ipykernel)",
   "language": "python",
   "name": "python3"
  },
  "language_info": {
   "codemirror_mode": {
    "name": "ipython",
    "version": 3
   },
   "file_extension": ".py",
   "mimetype": "text/x-python",
   "name": "python",
   "nbconvert_exporter": "python",
   "pygments_lexer": "ipython3",
   "version": "3.8.3"
  }
 },
 "nbformat": 4,
 "nbformat_minor": 5
}
