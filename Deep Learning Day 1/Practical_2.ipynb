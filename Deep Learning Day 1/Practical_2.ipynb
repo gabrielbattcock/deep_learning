{
 "cells": [
  {
   "attachments": {},
   "cell_type": "markdown",
   "id": "a8aee2ce",
   "metadata": {},
   "source": [
    "# Logistic Regression"
   ]
  },
  {
   "attachments": {},
   "cell_type": "markdown",
   "id": "b00081b4",
   "metadata": {},
   "source": [
    "### Reading Files and Loading Data"
   ]
  },
  {
   "cell_type": "code",
   "execution_count": null,
   "id": "38f3662a",
   "metadata": {},
   "outputs": [],
   "source": [
    "import matplotlib.pyplot as plt\n",
    "import pandas as pd\n",
    "import numpy as np\n",
    "import seaborn as sns\n",
    "import tensorflow as tf"
   ]
  },
  {
   "cell_type": "code",
   "execution_count": null,
   "id": "1d9fff57",
   "metadata": {},
   "outputs": [],
   "source": [
    "#load the dataset\n",
    "import pandas as pd\n",
    "data = pd.read_csv(\"../Deep Learning/diabetes_012_health_indicators_BRFSS2015.csv\")\n",
    "\n",
    "data = data[data[\"Diabetes_012\"] != 1]\n",
    "\n",
    "# for item in data[\"Diabetes_012\"]:\n",
    "#     if item == 2.0:\n",
    "#         data[\"Diabetes_012\"][item] = 1.0\n",
    "#     else:\n",
    "#         data[\"Diabetes_012\"] = 0.0\n",
    "\n",
    "data['Diabetes_012'] = np.where(data['Diabetes_012']== 0, 0, 1)\n",
    "\n"
   ]
  },
  {
   "cell_type": "code",
   "execution_count": null,
   "id": "5d6b0d35",
   "metadata": {},
   "outputs": [],
   "source": [
    "data.tail(5)"
   ]
  },
  {
   "attachments": {},
   "cell_type": "markdown",
   "id": "c73f2e8c",
   "metadata": {},
   "source": [
    "Exercise 1: Check for Missing Values and Duplicates and apply pre-processing that will convert 'diabetes' into a binary variable"
   ]
  },
  {
   "attachments": {},
   "cell_type": "markdown",
   "id": "43635320",
   "metadata": {},
   "source": [
    "### Fitting LR Model"
   ]
  },
  {
   "attachments": {},
   "cell_type": "markdown",
   "id": "a92c52de",
   "metadata": {},
   "source": [
    "Now, let's do a logistic regression example to predict patients who have diabetes based on their attributes."
   ]
  },
  {
   "cell_type": "code",
   "execution_count": null,
   "id": "7023d8be",
   "metadata": {},
   "outputs": [],
   "source": [
    "#install libraries\n",
    "# pip install -U scikit-learn"
   ]
  },
  {
   "cell_type": "code",
   "execution_count": null,
   "id": "0cd38076",
   "metadata": {},
   "outputs": [],
   "source": [
    "#import libraries for LR\n",
    "from sklearn.linear_model import LogisticRegression\n",
    "from sklearn.metrics import confusion_matrix\n",
    "from sklearn.metrics import ConfusionMatrixDisplay\n",
    "from sklearn.model_selection import train_test_split\n",
    "from sklearn import metrics"
   ]
  },
  {
   "cell_type": "code",
   "execution_count": null,
   "id": "f7daf863",
   "metadata": {},
   "outputs": [],
   "source": [
    "#split data into X and Y variables\n",
    "X=data.drop(\"Diabetes_012\",axis=1)\n",
    "Y=data[\"Diabetes_012\"]"
   ]
  },
  {
   "cell_type": "code",
   "execution_count": null,
   "id": "dd8b50a5",
   "metadata": {},
   "outputs": [],
   "source": [
    "#train/test split\n",
    "X_train , X_test , Y_train , Y_test = train_test_split(X,Y, test_size=0.25 , random_state=42)"
   ]
  },
  {
   "attachments": {},
   "cell_type": "markdown",
   "id": "3c1d8ecd",
   "metadata": {},
   "source": [
    "Once we split the data into training and testing sets, we fit the model"
   ]
  },
  {
   "cell_type": "code",
   "execution_count": null,
   "id": "0865ae17",
   "metadata": {},
   "outputs": [],
   "source": [
    "#logistic regression model\n",
    "lg = LogisticRegression(max_iter = 1500)\n",
    "lg.fit(X_train , Y_train)"
   ]
  },
  {
   "attachments": {},
   "cell_type": "markdown",
   "id": "036b9a8d",
   "metadata": {},
   "source": [
    "Now, we make predictions based on the fitted model"
   ]
  },
  {
   "cell_type": "code",
   "execution_count": null,
   "id": "755088a8",
   "metadata": {},
   "outputs": [],
   "source": [
    "# make predictions on test set\n",
    "y_pred=lg.predict(X_test)\n",
    "\n",
    "print('Training set score: {:.4f}'.format(lg.score(X_train, Y_train)))\n",
    "\n",
    "print('Test set score: {:.4f}'.format(lg.score(X_test, Y_test)))"
   ]
  },
  {
   "cell_type": "code",
   "execution_count": null,
   "id": "6aa12370",
   "metadata": {},
   "outputs": [],
   "source": [
    "# calculating and plotting the confusion matrix\n",
    "cm = metrics.confusion_matrix(Y_test,y_pred)\n",
    "#plot_confusion_matrix(conf_mat=cm1,show_absolute=True,\n",
    "                                #show_normed=True,\n",
    "                                #colorbar=True)\n",
    "cm = confusion_matrix(Y_test, y_pred)\n",
    "\n",
    "cm_display = ConfusionMatrixDisplay(cm).plot()"
   ]
  },
  {
   "attachments": {},
   "cell_type": "markdown",
   "id": "547bdd94",
   "metadata": {},
   "source": [
    "How should we interpret the confusion matrix?"
   ]
  },
  {
   "attachments": {},
   "cell_type": "markdown",
   "id": "6efe39fa",
   "metadata": {},
   "source": [
    "we seem to be misclassifying diabetes patients as non-diabetic"
   ]
  },
  {
   "attachments": {},
   "cell_type": "markdown",
   "id": "97527711",
   "metadata": {},
   "source": [
    "Exercise 2: Try now to optimize the LR model by only using a subset of the variables. Does this improve the train/test accuracy?"
   ]
  },
  {
   "cell_type": "code",
   "execution_count": null,
   "id": "295d8961",
   "metadata": {},
   "outputs": [],
   "source": []
  },
  {
   "attachments": {},
   "cell_type": "markdown",
   "id": "a7ac5c02",
   "metadata": {},
   "source": [
    "Exercise 3: Experiment with the train/test split size and whether it is stratified. \n",
    "See https://scikit-learn.org/stable/modules/generated/sklearn.model_selection.train_test_split.html for documentation"
   ]
  },
  {
   "cell_type": "code",
   "execution_count": null,
   "id": "5ed0311a",
   "metadata": {},
   "outputs": [],
   "source": [
    "#define metrics\n",
    "y_pred_proba = lg.predict_proba(X_test)[::,1]\n",
    "fpr, tpr, _ = metrics.roc_curve(Y_test,  y_pred_proba)\n",
    "\n",
    "#create ROC curve\n",
    "plt.plot(fpr,tpr)\n",
    "plt.ylabel('True Positive Rate')\n",
    "plt.xlabel('False Positive Rate')\n",
    "plt.show()"
   ]
  },
  {
   "cell_type": "code",
   "execution_count": null,
   "id": "c6c205b1",
   "metadata": {},
   "outputs": [],
   "source": [
    "#calculate auc\n",
    "auc = metrics.roc_auc_score(Y_test, y_pred_proba)\n",
    "auc"
   ]
  },
  {
   "attachments": {},
   "cell_type": "markdown",
   "id": "b3b372ae",
   "metadata": {},
   "source": [
    "Exercise 4: Compare ROC curve for your various models. Which version has the highest AUC?"
   ]
  },
  {
   "cell_type": "code",
   "execution_count": null,
   "id": "d2e5986d",
   "metadata": {},
   "outputs": [],
   "source": []
  },
  {
   "attachments": {},
   "cell_type": "markdown",
   "id": "77a5325b",
   "metadata": {},
   "source": [
    "### LR to Neural Network"
   ]
  },
  {
   "attachments": {},
   "cell_type": "markdown",
   "id": "c66c698b",
   "metadata": {},
   "source": [
    "Now we will replicate the LR model above as a neural network and compare the results."
   ]
  },
  {
   "attachments": {},
   "cell_type": "markdown",
   "id": "b07a4da0",
   "metadata": {},
   "source": [
    "Exercise 5: Run the neural network and compare the ROC/AUC to the LR example."
   ]
  },
  {
   "cell_type": "code",
   "execution_count": null,
   "id": "1eab7ce7",
   "metadata": {},
   "outputs": [],
   "source": []
  },
  {
   "cell_type": "code",
   "execution_count": null,
   "id": "aced8c01",
   "metadata": {},
   "outputs": [],
   "source": [
    "import tensorflow as tf\n",
    "from keras.models import Sequential\n",
    "from tensorflow.keras.layers import InputLayer\n",
    "from tensorflow.keras.layers import Dense"
   ]
  },
  {
   "cell_type": "code",
   "execution_count": 158,
   "id": "fc2a688c",
   "metadata": {},
   "outputs": [],
   "source": [
    "n_features = X_train.shape[1]\n",
    "ANN_model = Sequential()\n",
    "ANN_model.add(InputLayer(input_shape=(n_features, )))\n",
    "ANN_model.add(Dense(2, activation = \"softmax\"))\n"
   ]
  },
  {
   "cell_type": "code",
   "execution_count": 159,
   "id": "e0cf517f",
   "metadata": {},
   "outputs": [],
   "source": [
    "optimizer=tf.keras.optimizers.Adam(learning_rate=0.05)\n",
    "ANN_model.compile(optimizer=optimizer,\n",
    "                  loss='binary_crossentropy',\n",
    "                  metrics=['accuracy'])"
   ]
  },
  {
   "cell_type": "code",
   "execution_count": 160,
   "id": "0687e8aa",
   "metadata": {},
   "outputs": [
    {
     "name": "stdout",
     "output_type": "stream",
     "text": [
      "Epoch 1/5\n"
     ]
    },
    {
     "ename": "ValueError",
     "evalue": "in user code:\n\n    File \"/Users/gabrielbattcock/opt/anaconda3/envs/tf/lib/python3.9/site-packages/keras/engine/training.py\", line 1249, in train_function  *\n        return step_function(self, iterator)\n    File \"/Users/gabrielbattcock/opt/anaconda3/envs/tf/lib/python3.9/site-packages/keras/engine/training.py\", line 1233, in step_function  **\n        outputs = model.distribute_strategy.run(run_step, args=(data,))\n    File \"/Users/gabrielbattcock/opt/anaconda3/envs/tf/lib/python3.9/site-packages/keras/engine/training.py\", line 1222, in run_step  **\n        outputs = model.train_step(data)\n    File \"/Users/gabrielbattcock/opt/anaconda3/envs/tf/lib/python3.9/site-packages/keras/engine/training.py\", line 1024, in train_step\n        loss = self.compute_loss(x, y, y_pred, sample_weight)\n    File \"/Users/gabrielbattcock/opt/anaconda3/envs/tf/lib/python3.9/site-packages/keras/engine/training.py\", line 1082, in compute_loss\n        return self.compiled_loss(\n    File \"/Users/gabrielbattcock/opt/anaconda3/envs/tf/lib/python3.9/site-packages/keras/engine/compile_utils.py\", line 265, in __call__\n        loss_value = loss_obj(y_t, y_p, sample_weight=sw)\n    File \"/Users/gabrielbattcock/opt/anaconda3/envs/tf/lib/python3.9/site-packages/keras/losses.py\", line 152, in __call__\n        losses = call_fn(y_true, y_pred)\n    File \"/Users/gabrielbattcock/opt/anaconda3/envs/tf/lib/python3.9/site-packages/keras/losses.py\", line 284, in call  **\n        return ag_fn(y_true, y_pred, **self._fn_kwargs)\n    File \"/Users/gabrielbattcock/opt/anaconda3/envs/tf/lib/python3.9/site-packages/keras/losses.py\", line 2176, in binary_crossentropy\n        backend.binary_crossentropy(y_true, y_pred, from_logits=from_logits),\n    File \"/Users/gabrielbattcock/opt/anaconda3/envs/tf/lib/python3.9/site-packages/keras/backend.py\", line 5680, in binary_crossentropy\n        return tf.nn.sigmoid_cross_entropy_with_logits(\n\n    ValueError: `logits` and `labels` must have the same shape, received ((None, 2) vs (None, 1)).\n",
     "output_type": "error",
     "traceback": [
      "\u001b[0;31m---------------------------------------------------------------------------\u001b[0m",
      "\u001b[0;31mValueError\u001b[0m                                Traceback (most recent call last)",
      "Cell \u001b[0;32mIn[160], line 1\u001b[0m\n\u001b[0;32m----> 1\u001b[0m history \u001b[39m=\u001b[39m ANN_model\u001b[39m.\u001b[39;49mfit(X_train, Y_train, \n\u001b[1;32m      2\u001b[0m                         epochs\u001b[39m=\u001b[39;49m\u001b[39m5\u001b[39;49m, batch_size\u001b[39m=\u001b[39;49m\u001b[39m32\u001b[39;49m,\n\u001b[1;32m      3\u001b[0m                         validation_split\u001b[39m=\u001b[39;49m\u001b[39m0.25\u001b[39;49m, \n\u001b[1;32m      4\u001b[0m                         shuffle\u001b[39m=\u001b[39;49m\u001b[39mFalse\u001b[39;49;00m)\n",
      "File \u001b[0;32m~/opt/anaconda3/envs/tf/lib/python3.9/site-packages/keras/utils/traceback_utils.py:70\u001b[0m, in \u001b[0;36mfilter_traceback.<locals>.error_handler\u001b[0;34m(*args, **kwargs)\u001b[0m\n\u001b[1;32m     67\u001b[0m     filtered_tb \u001b[39m=\u001b[39m _process_traceback_frames(e\u001b[39m.\u001b[39m__traceback__)\n\u001b[1;32m     68\u001b[0m     \u001b[39m# To get the full stack trace, call:\u001b[39;00m\n\u001b[1;32m     69\u001b[0m     \u001b[39m# `tf.debugging.disable_traceback_filtering()`\u001b[39;00m\n\u001b[0;32m---> 70\u001b[0m     \u001b[39mraise\u001b[39;00m e\u001b[39m.\u001b[39mwith_traceback(filtered_tb) \u001b[39mfrom\u001b[39;00m \u001b[39mNone\u001b[39;00m\n\u001b[1;32m     71\u001b[0m \u001b[39mfinally\u001b[39;00m:\n\u001b[1;32m     72\u001b[0m     \u001b[39mdel\u001b[39;00m filtered_tb\n",
      "File \u001b[0;32m/var/folders/6n/jr6nrywx62zfzf3cdblmpxgh0000gn/T/__autograph_generated_filecuwefouh.py:15\u001b[0m, in \u001b[0;36mouter_factory.<locals>.inner_factory.<locals>.tf__train_function\u001b[0;34m(iterator)\u001b[0m\n\u001b[1;32m     13\u001b[0m \u001b[39mtry\u001b[39;00m:\n\u001b[1;32m     14\u001b[0m     do_return \u001b[39m=\u001b[39m \u001b[39mTrue\u001b[39;00m\n\u001b[0;32m---> 15\u001b[0m     retval_ \u001b[39m=\u001b[39m ag__\u001b[39m.\u001b[39mconverted_call(ag__\u001b[39m.\u001b[39mld(step_function), (ag__\u001b[39m.\u001b[39mld(\u001b[39mself\u001b[39m), ag__\u001b[39m.\u001b[39mld(iterator)), \u001b[39mNone\u001b[39;00m, fscope)\n\u001b[1;32m     16\u001b[0m \u001b[39mexcept\u001b[39;00m:\n\u001b[1;32m     17\u001b[0m     do_return \u001b[39m=\u001b[39m \u001b[39mFalse\u001b[39;00m\n",
      "\u001b[0;31mValueError\u001b[0m: in user code:\n\n    File \"/Users/gabrielbattcock/opt/anaconda3/envs/tf/lib/python3.9/site-packages/keras/engine/training.py\", line 1249, in train_function  *\n        return step_function(self, iterator)\n    File \"/Users/gabrielbattcock/opt/anaconda3/envs/tf/lib/python3.9/site-packages/keras/engine/training.py\", line 1233, in step_function  **\n        outputs = model.distribute_strategy.run(run_step, args=(data,))\n    File \"/Users/gabrielbattcock/opt/anaconda3/envs/tf/lib/python3.9/site-packages/keras/engine/training.py\", line 1222, in run_step  **\n        outputs = model.train_step(data)\n    File \"/Users/gabrielbattcock/opt/anaconda3/envs/tf/lib/python3.9/site-packages/keras/engine/training.py\", line 1024, in train_step\n        loss = self.compute_loss(x, y, y_pred, sample_weight)\n    File \"/Users/gabrielbattcock/opt/anaconda3/envs/tf/lib/python3.9/site-packages/keras/engine/training.py\", line 1082, in compute_loss\n        return self.compiled_loss(\n    File \"/Users/gabrielbattcock/opt/anaconda3/envs/tf/lib/python3.9/site-packages/keras/engine/compile_utils.py\", line 265, in __call__\n        loss_value = loss_obj(y_t, y_p, sample_weight=sw)\n    File \"/Users/gabrielbattcock/opt/anaconda3/envs/tf/lib/python3.9/site-packages/keras/losses.py\", line 152, in __call__\n        losses = call_fn(y_true, y_pred)\n    File \"/Users/gabrielbattcock/opt/anaconda3/envs/tf/lib/python3.9/site-packages/keras/losses.py\", line 284, in call  **\n        return ag_fn(y_true, y_pred, **self._fn_kwargs)\n    File \"/Users/gabrielbattcock/opt/anaconda3/envs/tf/lib/python3.9/site-packages/keras/losses.py\", line 2176, in binary_crossentropy\n        backend.binary_crossentropy(y_true, y_pred, from_logits=from_logits),\n    File \"/Users/gabrielbattcock/opt/anaconda3/envs/tf/lib/python3.9/site-packages/keras/backend.py\", line 5680, in binary_crossentropy\n        return tf.nn.sigmoid_cross_entropy_with_logits(\n\n    ValueError: `logits` and `labels` must have the same shape, received ((None, 2) vs (None, 1)).\n"
     ]
    }
   ],
   "source": [
    "history = ANN_model.fit(X_train, Y_train, \n",
    "                        epochs=5, batch_size=32,\n",
    "                        validation_split=0.25, \n",
    "                        shuffle=False)"
   ]
  },
  {
   "cell_type": "code",
   "execution_count": 155,
   "id": "e4fe58bf",
   "metadata": {},
   "outputs": [
    {
     "name": "stdout",
     "output_type": "stream",
     "text": [
      "1946/1946 [==============================] - 1s 277us/step\n"
     ]
    }
   ],
   "source": [
    "#make predictions\n",
    "preds=ANN_model.predict(X_test)"
   ]
  },
  {
   "cell_type": "code",
   "execution_count": 156,
   "id": "32064f08",
   "metadata": {},
   "outputs": [
    {
     "data": {
      "image/png": "[encoded data removed]",
      "text/plain": [
       "<Figure size 640x480 with 1 Axes>"
      ]
     },
     "metadata": {},
     "output_type": "display_data"
    }
   ],
   "source": [
    "#plot ROC\n",
    "fpr, tpr, _ = metrics.roc_curve(Y_test, preds)\n",
    "roc_auc = metrics.auc(fpr, tpr)\n",
    "plt.figure()\n",
    "lw = 2\n",
    "plt.plot(fpr, tpr, color='darkorange',\n",
    "lw=lw, label='ROC curve (area = %0.2f)' % roc_auc)\n",
    "plt.plot([0, 1], [0, 1], color='navy', lw=lw, linestyle='--')\n",
    "plt.xlim([0.0, 1.0])\n",
    "plt.ylim([0.0, 1.05])\n",
    "plt.xlabel('False Positive Rate')\n",
    "plt.ylabel('True Positive Rate')\n",
    "plt.title('Receiver operating characteristic example')\n",
    "plt.legend(loc=\"lower right\")\n",
    "plt.show()"
   ]
  },
  {
   "cell_type": "code",
   "execution_count": null,
   "id": "99a7c2dd",
   "metadata": {},
   "outputs": [],
   "source": []
  }
 ],
 "metadata": {
  "kernelspec": {
   "display_name": "Python 3 (ipykernel)",
   "language": "python",
   "name": "python3"
  },
  "language_info": {
   "codemirror_mode": {
    "name": "ipython",
    "version": 3
   },
   "file_extension": ".py",
   "mimetype": "text/x-python",
   "name": "python",
   "nbconvert_exporter": "python",
   "pygments_lexer": "ipython3",
   "version": "3.9.16"
  }
 },
 "nbformat": 4,
 "nbformat_minor": 5
}
