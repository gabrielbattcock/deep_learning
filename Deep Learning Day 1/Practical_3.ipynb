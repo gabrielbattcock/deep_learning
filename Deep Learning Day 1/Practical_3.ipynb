{
 "cells": [
  {
   "cell_type": "markdown",
   "id": "36a43ca8",
   "metadata": {},
   "source": [
    "## CNN Example"
   ]
  },
  {
   "cell_type": "markdown",
   "id": "d40e4044",
   "metadata": {},
   "source": [
    "For this example we are taking a look at the MNIST dataset, which is used often in ML tutorials and is a large database of handwritten digits."
   ]
  },
  {
   "cell_type": "markdown",
   "id": "030373f7",
   "metadata": {},
   "source": [
    "Documentation: https://keras.io/api/datasets/mnist/"
   ]
  },
  {
   "cell_type": "markdown",
   "id": "d3a7e790",
   "metadata": {},
   "source": [
    "First, we load the libraries and dataset."
   ]
  },
  {
   "cell_type": "code",
   "execution_count": null,
   "id": "d0d8adfa",
   "metadata": {},
   "outputs": [],
   "source": [
    "#import libraries\n",
    "import keras\n",
    "from keras.datasets import mnist\n",
    "import matplotlib.pyplot as plt\n",
    "from tensorflow.keras.datasets import mnist\n",
    "from tensorflow.keras.utils import to_categorical\n",
    "from tensorflow.keras.models import Sequential\n",
    "from tensorflow.keras.layers import Conv2D\n",
    "from tensorflow.keras.layers import MaxPooling2D\n",
    "from tensorflow.keras.layers import Dense\n",
    "from tensorflow.keras.layers import Dropout\n",
    "from tensorflow.keras.layers import Flatten\n",
    "from tensorflow.keras.optimizers import SGD\n",
    "\n",
    "#load mnist dataset\n",
    "#split into train/test\n",
    "(X_train, y_train), (X_test, y_test) = mnist.load_data()"
   ]
  },
  {
   "cell_type": "markdown",
   "id": "129ab466",
   "metadata": {},
   "source": [
    "Exercise 1: Print the raw data from the first image from the training dataset. Can you tell what it is? What do the numbers represent? Now use matplotlib to print the first 6 images from this training dataset."
   ]
  },
  {
   "cell_type": "code",
   "execution_count": null,
   "id": "c1806d6e",
   "metadata": {},
   "outputs": [],
   "source": [
    "import sys\n",
    "import numpy\n",
    "numpy.set_printoptions(threshold=sys.maxsize)"
   ]
  },
  {
   "cell_type": "markdown",
   "id": "1c384d78",
   "metadata": {},
   "source": [
    "Exercise 2:The CNN will only take a 4D tensor. Replace the pseudocode with the correct numbers into the reshaping commands. See documentation for Conv2D at https://www.tensorflow.org/api_docs/python/tf/keras/layers/Conv2D\n",
    "What do these new arrays represent?"
   ]
  },
  {
   "cell_type": "code",
   "execution_count": null,
   "id": "3a61b7fe",
   "metadata": {},
   "outputs": [],
   "source": [
    "#Hint: reshaping\n",
    "#X_train = X_train.reshape(('batch size','height','width','channels'))\n",
    "#X_train[1]"
   ]
  },
  {
   "cell_type": "markdown",
   "id": "dcfa6b2d",
   "metadata": {},
   "source": [
    "Exercise 3: These images are in grayscale. Each number value corresponds to a color between white and black. Normalise the image with reference to black (value:255). How does this change the images?"
   ]
  },
  {
   "cell_type": "code",
   "execution_count": null,
   "id": "fca8865c",
   "metadata": {},
   "outputs": [],
   "source": [
    "#scaling\n",
    "\n",
    "print('X_train shape:', X_train.shape) #X_train shape: (60000, 28, 28, 1)"
   ]
  },
  {
   "cell_type": "markdown",
   "id": "1acf591b",
   "metadata": {},
   "source": [
    "Next, we encode the outcome variables into categories"
   ]
  },
  {
   "cell_type": "code",
   "execution_count": null,
   "id": "f1e47558",
   "metadata": {},
   "outputs": [],
   "source": [
    "#set number of categories\n",
    "num_category = 10\n",
    "# convert class vectors to binary class matrices\n",
    "y_train = keras.utils.to_categorical(y_train, num_category)\n",
    "y_test = keras.utils.to_categorical(y_test, num_category)"
   ]
  },
  {
   "cell_type": "markdown",
   "id": "7040e021",
   "metadata": {},
   "source": [
    "Specify the model structure."
   ]
  },
  {
   "cell_type": "code",
   "execution_count": null,
   "id": "24b9bf68",
   "metadata": {},
   "outputs": [],
   "source": [
    "#model 1\n",
    "model = Sequential()\n",
    "model.add(Conv2D(32, (3, 3), activation='relu', input_shape=(28, 28, 1)))\n",
    "model.add(MaxPooling2D((2, 2)))\n",
    "model.add(Flatten())\n",
    "model.add(Dense(100, activation='relu'))\n",
    "model.add(Dense(num_category, activation='softmax'))"
   ]
  },
  {
   "cell_type": "markdown",
   "id": "0e940abe",
   "metadata": {},
   "source": [
    "Next, compile and fit the model. Training time may take several minutes to days depending on the largeness of the data."
   ]
  },
  {
   "cell_type": "code",
   "execution_count": null,
   "id": "7bfa7637",
   "metadata": {},
   "outputs": [],
   "source": [
    "#compile model\n",
    "model.compile(loss='categorical_crossentropy', metrics=['accuracy'])"
   ]
  },
  {
   "cell_type": "code",
   "execution_count": null,
   "id": "abb2f726",
   "metadata": {},
   "outputs": [],
   "source": [
    "#fit the model\n",
    "batch_size = 128\n",
    "num_epoch = 10\n",
    "model_log = model.fit(X_train, y_train,\n",
    "          batch_size=batch_size,\n",
    "          epochs=num_epoch,\n",
    "          verbose=1,\n",
    "          validation_data=(X_test, y_test))"
   ]
  },
  {
   "cell_type": "markdown",
   "id": "fcbebf16",
   "metadata": {},
   "source": [
    "Loss and accuracy can both be used to assess the performance of the model."
   ]
  },
  {
   "cell_type": "code",
   "execution_count": null,
   "id": "46a96cc7",
   "metadata": {},
   "outputs": [],
   "source": [
    "score = model.evaluate(X_test, y_test, verbose=0)\n",
    "print('Test loss:', score[0]) \n",
    "print('Test accuracy:', score[1])"
   ]
  },
  {
   "cell_type": "code",
   "execution_count": null,
   "id": "5b9d4083",
   "metadata": {},
   "outputs": [],
   "source": [
    "import os\n",
    "# plotting the metrics\n",
    "fig = plt.figure()\n",
    "plt.subplot(2,1,1)\n",
    "plt.plot(model_log.history['accuracy'])\n",
    "plt.plot(model_log.history['val_accuracy'])\n",
    "plt.title('model accuracy')\n",
    "plt.ylabel('accuracy')\n",
    "plt.xlabel('epoch')\n",
    "plt.legend(['train', 'test'], loc='lower right')\n",
    "plt.subplot(2,1,2)\n",
    "plt.plot(model_log.history['loss'])\n",
    "plt.plot(model_log.history['val_loss'])\n",
    "plt.title('model loss')\n",
    "plt.ylabel('loss')\n",
    "plt.xlabel('epoch')\n",
    "plt.legend(['train', 'test'], loc='upper right')\n",
    "plt.tight_layout()\n",
    "fig"
   ]
  },
  {
   "cell_type": "markdown",
   "id": "916fa0b7",
   "metadata": {},
   "source": [
    "Exercise 4: Run model 1 and model 2. For model 2, you will need to specify an additional convolutional layer after the first that is twice a large. You will also specify a dropout layer after the pooling layer. Which of these two models performs better?"
   ]
  },
  {
   "cell_type": "markdown",
   "id": "26e31de8",
   "metadata": {},
   "source": [
    "Exercise 5: After finding the best out of the two models, add an optimiser and report the results. Does changing the learning rate within the optimiser affect the outcome?"
   ]
  }
 ],
 "metadata": {
  "kernelspec": {
   "display_name": "Python 3 (ipykernel)",
   "language": "python",
   "name": "python3"
  },
  "language_info": {
   "codemirror_mode": {
    "name": "ipython",
    "version": 3
   },
   "file_extension": ".py",
   "mimetype": "text/x-python",
   "name": "python",
   "nbconvert_exporter": "python",
   "pygments_lexer": "ipython3",
   "version": "3.8.3"
  }
 },
 "nbformat": 4,
 "nbformat_minor": 5
}
