{
 "cells": [
  {
   "cell_type": "markdown",
   "id": "fb3b5e2b",
   "metadata": {},
   "source": [
    "# Exploratory Data Analysis (EDA)"
   ]
  },
  {
   "cell_type": "markdown",
   "id": "b00081b4",
   "metadata": {},
   "source": [
    "### Reading Files and Loading Data"
   ]
  },
  {
   "cell_type": "code",
   "execution_count": 1,
   "id": "38f3662a",
   "metadata": {},
   "outputs": [],
   "source": [
    "import matplotlib.pyplot as plt\n",
    "import pandas as pd\n",
    "import numpy as np\n",
    "import seaborn as sns"
   ]
  },
  {
   "cell_type": "code",
   "execution_count": null,
   "id": "1d9fff57",
   "metadata": {},
   "outputs": [],
   "source": [
    "#load the dataset\n",
    "import pandas as pd\n",
    "data = pd.read_csv(\"location_of_your_csv\")"
   ]
  },
  {
   "cell_type": "markdown",
   "id": "24f3ad95",
   "metadata": {},
   "source": [
    "Note: You will need to edit the read_csv code to reflect the location of your csv file on your own computer"
   ]
  },
  {
   "cell_type": "code",
   "execution_count": null,
   "id": "5d6b0d35",
   "metadata": {},
   "outputs": [],
   "source": [
    "#shows the first 5 rows\n",
    "data.head(5)"
   ]
  },
  {
   "cell_type": "code",
   "execution_count": null,
   "id": "683baf22",
   "metadata": {},
   "outputs": [],
   "source": [
    "#gives a list of fields with data types\n",
    "data.info()"
   ]
  },
  {
   "cell_type": "code",
   "execution_count": null,
   "id": "dc5aea75",
   "metadata": {},
   "outputs": [],
   "source": [
    "#check for any missing values\n",
    "data.isna().sum() "
   ]
  },
  {
   "cell_type": "markdown",
   "id": "c73f2e8c",
   "metadata": {},
   "source": [
    "### Checking for Missing Values and Duplicates"
   ]
  },
  {
   "cell_type": "code",
   "execution_count": null,
   "id": "1058eeac",
   "metadata": {},
   "outputs": [],
   "source": [
    "#check for duplicate rows\n",
    "duplicates = data[data.duplicated()]\n",
    "print(\"Duplicate Rows : \",len(duplicates))\n",
    "duplicates.head()"
   ]
  },
  {
   "cell_type": "code",
   "execution_count": null,
   "id": "98f0de92",
   "metadata": {},
   "outputs": [],
   "source": [
    "#drop duplicates\n",
    "df = data.dropduplicates()"
   ]
  },
  {
   "cell_type": "markdown",
   "id": "52f5748a",
   "metadata": {},
   "source": [
    "### Looking at Variable Relationships and General Trends"
   ]
  },
  {
   "cell_type": "code",
   "execution_count": null,
   "id": "cf9c157f",
   "metadata": {},
   "outputs": [],
   "source": [
    "#look at counts in a column\n",
    "data['Diabetes_012'].value_counts()"
   ]
  },
  {
   "cell_type": "markdown",
   "id": "334d8314",
   "metadata": {},
   "source": [
    "0=no diabetes, 1=prediabetes, 2=diabetes"
   ]
  },
  {
   "cell_type": "markdown",
   "id": "1e9116fb",
   "metadata": {},
   "source": [
    "Exercise 1: Decide whether to use pre-diabetic patients and appropriately edit your dataset"
   ]
  },
  {
   "cell_type": "markdown",
   "id": "d646c9d9",
   "metadata": {},
   "source": [
    "Exercise 2: Find which variables initially seem to have correlation by creating a heatmap using Seaborn visualisation package. \n",
    "(https://seaborn.pydata.org/)"
   ]
  },
  {
   "cell_type": "code",
   "execution_count": null,
   "id": "076bef41",
   "metadata": {},
   "outputs": [],
   "source": [
    "#use cross tab to see how many diabetes patients have high BP\n",
    "pd.crosstab(data.HighBP,data.Diabetes_012)"
   ]
  },
  {
   "cell_type": "code",
   "execution_count": null,
   "id": "1945a5fe",
   "metadata": {},
   "outputs": [],
   "source": [
    "#can use this to create a visual representation\n",
    "pd.crosstab(data.HighBP,data.Diabetes_012).plot(kind=\"bar\",figsize=(5,4))\n",
    "\n",
    "plt.title('Diabetes Disease Frequency for HighBP')\n",
    "plt.xlabel(\"HighBP\")\n",
    "plt.ylabel('Frequency')\n",
    "plt.show()"
   ]
  },
  {
   "cell_type": "markdown",
   "id": "7d4df596",
   "metadata": {},
   "source": [
    "Exercise 3: Create a visual like the one above but showing the relationship between high alcohol consumption and diabetes. what does this visual tell us? Do the same but for sex and diabetes."
   ]
  },
  {
   "cell_type": "code",
   "execution_count": null,
   "id": "022ef1a9",
   "metadata": {},
   "outputs": [],
   "source": [
    "#look at a continuous variable like age and its relation to diabetes\n",
    "pd.crosstab(data.Age,data.Diabetes_012).plot(kind=\"bar\",figsize=(20,6))\n",
    "plt.title('Diabetes Disease Frequency for Ages')\n",
    "plt.xlabel('Age')\n",
    "plt.xticks(rotation=0)\n",
    "plt.ylabel('Frequency')\n",
    "plt.show()"
   ]
  },
  {
   "cell_type": "markdown",
   "id": "85767cca",
   "metadata": {},
   "source": [
    "Exercise 4: Create a crosstab bar chart showing the frequency of diabetes cases compared to income."
   ]
  }
 ],
 "metadata": {
  "kernelspec": {
   "display_name": "Python 3 (ipykernel)",
   "language": "python",
   "name": "python3"
  },
  "language_info": {
   "codemirror_mode": {
    "name": "ipython",
    "version": 3
   },
   "file_extension": ".py",
   "mimetype": "text/x-python",
   "name": "python",
   "nbconvert_exporter": "python",
   "pygments_lexer": "ipython3",
   "version": "3.9.12"
  }
 },
 "nbformat": 4,
 "nbformat_minor": 5
}
