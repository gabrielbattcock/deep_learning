{
 "cells": [
  {
   "cell_type": "markdown",
   "id": "a40a6dbc",
   "metadata": {},
   "source": [
    "# Intro to MLP"
   ]
  },
  {
   "cell_type": "markdown",
   "id": "8b17af6d",
   "metadata": {},
   "source": [
    "### Importing Libraries"
   ]
  },
  {
   "cell_type": "code",
   "execution_count": null,
   "id": "5aa4d921",
   "metadata": {},
   "outputs": [],
   "source": [
    "# importing modules\n",
    "import tensorflow as tf\n",
    "import numpy as np\n",
    "from sklearn.preprocessing import LabelEncoder\n",
    "from tensorflow.keras.models import Sequential\n",
    "from tensorflow.keras.layers import Flatten\n",
    "from tensorflow.keras.layers import Dense\n",
    "from tensorflow.keras.layers import Activation\n",
    "import matplotlib.pyplot as plt\n",
    "from sklearn.model_selection import train_test_split"
   ]
  },
  {
   "cell_type": "markdown",
   "id": "1439a458",
   "metadata": {},
   "source": [
    "### Loading Dataset"
   ]
  },
  {
   "cell_type": "code",
   "execution_count": null,
   "id": "2c3acabd",
   "metadata": {
    "scrolled": true
   },
   "outputs": [],
   "source": [
    "import pandas as pd\n",
    "import numpy as np\n",
    "df = pd.read_csv('breast-cancer-wisconsin.data')\n",
    "df = df[df.bare_nuclei != '?']"
   ]
  },
  {
   "cell_type": "markdown",
   "id": "7fa91ee0",
   "metadata": {},
   "source": [
    "### Splitting into Train/Test"
   ]
  },
  {
   "cell_type": "code",
   "execution_count": null,
   "id": "e332fb8f",
   "metadata": {},
   "outputs": [],
   "source": [
    "X = df.iloc[:, 1:10]\n",
    "X = X.astype('float32')\n",
    "Y = df[['class']]\n",
    "Y = LabelEncoder().fit_transform(Y)\n",
    "\n",
    "#split  into training and testing sets\n",
    "X_train, X_test, Y_train, Y_test = train_test_split(X, Y, test_size=0.2)\n",
    "X_train"
   ]
  },
  {
   "cell_type": "markdown",
   "id": "fe1550ea",
   "metadata": {},
   "source": [
    "## MLP Example"
   ]
  },
  {
   "cell_type": "markdown",
   "id": "4c8be13e",
   "metadata": {},
   "source": [
    "### Defining the Model"
   ]
  },
  {
   "cell_type": "code",
   "execution_count": null,
   "id": "62d147e5",
   "metadata": {},
   "outputs": [],
   "source": [
    "# determine the number of input features\n",
    "n_features = X_train.shape[1]\n",
    "\n",
    "# Model 1\n",
    "model = Sequential()\n",
    "model.add(Dense(18, activation='relu', input_shape=(n_features,)))\n",
    "model.add(Dense(27, activation='relu'))\n",
    "model.add(Dense(1, activation='softmax'))"
   ]
  },
  {
   "cell_type": "code",
   "execution_count": null,
   "id": "5521485f",
   "metadata": {},
   "outputs": [],
   "source": [
    "# Configure the model and start training\n",
    "model.compile(loss='binary_crossentropy', optimizer='adam', metrics=['accuracy'])\n",
    "model.fit(X_train, Y_train, epochs=1000, batch_size=50, verbose=0)\n",
    "\n",
    "#batch is # of samples to work through before updating internal model paramters\n",
    "#epochs is # of times the learning algorithm will work through the entire dataset\n",
    "\n",
    "# Test the model after training\n",
    "test_results = model.evaluate(X_test, Y_test, verbose=0)\n",
    "print(f'Loss: {test_results[0]} - Accuracy: {test_results[1]}%')"
   ]
  },
  {
   "cell_type": "markdown",
   "id": "6bb747f3",
   "metadata": {},
   "source": [
    "Exercise 1: Compare the performance of one layer versus 2 layers. Why does one work better than the other?"
   ]
  },
  {
   "cell_type": "markdown",
   "id": "e5d0de37",
   "metadata": {},
   "source": [
    "### Testing Activation Functions"
   ]
  },
  {
   "cell_type": "markdown",
   "id": "6a5bfff2",
   "metadata": {},
   "source": [
    "Optional Exercise: Test performance of 3 difference activation functions. "
   ]
  },
  {
   "cell_type": "code",
   "execution_count": null,
   "id": "3bd61623",
   "metadata": {},
   "outputs": [],
   "source": [
    "#device = torch.device('cuda' if torch.cuda.is_available() else 'cpu')\n",
    "n_features = X_train.shape[1]\n",
    "num_epochs=10\n",
    " \n",
    "activation_functions = {\n",
    "    'relu',\n",
    "    'sigmoid',\n",
    "    'softmax'\n",
    "}"
   ]
  },
  {
   "cell_type": "markdown",
   "id": "b2c07fbf",
   "metadata": {},
   "source": [
    "### Tuning Hyperparameters"
   ]
  },
  {
   "cell_type": "markdown",
   "id": "0c23ad50",
   "metadata": {},
   "source": [
    "Optional Exercise: Write code to find ideal batch size, epochs, and learning rate"
   ]
  },
  {
   "cell_type": "code",
   "execution_count": null,
   "id": "fd1498b4",
   "metadata": {},
   "outputs": [],
   "source": [
    "# write code to tune batch size, epochs, and learning rate\n",
    "\n",
    "# Hint:learning rate can be changed via keras backend\n",
    "from keras import backend as K\n",
    "K.set_value(model.optimizer.learning_rate, 0.001)"
   ]
  },
  {
   "cell_type": "markdown",
   "id": "7c214b6e",
   "metadata": {},
   "source": [
    "# Iris Dataset Exercise"
   ]
  },
  {
   "cell_type": "markdown",
   "id": "fada7f82",
   "metadata": {},
   "source": [
    "Exercise: Given the Iris dataset, create MLP models with one and two layers. Choose an appropriate activation function and compare the performance between these models using relevant metrics. "
   ]
  },
  {
   "cell_type": "code",
   "execution_count": null,
   "id": "366617cd",
   "metadata": {},
   "outputs": [],
   "source": [
    "from numpy import argmax\n",
    "from pandas import read_csv\n",
    "from sklearn.model_selection import train_test_split\n",
    "from sklearn.preprocessing import LabelEncoder\n",
    "from tensorflow.keras import Sequential\n",
    "from tensorflow.keras.layers import Dense"
   ]
  },
  {
   "cell_type": "code",
   "execution_count": null,
   "id": "9a65f72f",
   "metadata": {},
   "outputs": [],
   "source": [
    "# load the dataset\n",
    "path = 'https://raw.githubusercontent.com/jbrownlee/Datasets/master/iris.csv'\n",
    "df = read_csv(path, header=None)\n",
    "# split into input and output columns\n",
    "X, y = df.values[:, :-1], df.values[:, -1]\n",
    "# Hint:ensure all data are floating point values\n",
    "X = X.astype('float32')"
   ]
  },
  {
   "cell_type": "code",
   "execution_count": null,
   "id": "67393572",
   "metadata": {},
   "outputs": [],
   "source": [
    "# encode strings to integer\n",
    "y = LabelEncoder().fit_transform(y)\n",
    "# split into train and test datasets\n",
    "X_train, X_test, y_train, y_test = train_test_split(X, y, test_size=0.33)\n",
    "print(X_train.shape, X_test.shape, y_train.shape, y_test.shape)"
   ]
  },
  {
   "cell_type": "code",
   "execution_count": null,
   "id": "c19835fd",
   "metadata": {},
   "outputs": [],
   "source": [
    "#write the rest of your code here"
   ]
  }
 ],
 "metadata": {
  "kernelspec": {
   "display_name": "Python 3 (ipykernel)",
   "language": "python",
   "name": "python3"
  },
  "language_info": {
   "codemirror_mode": {
    "name": "ipython",
    "version": 3
   },
   "file_extension": ".py",
   "mimetype": "text/x-python",
   "name": "python",
   "nbconvert_exporter": "python",
   "pygments_lexer": "ipython3",
   "version": "3.8.3"
  }
 },
 "nbformat": 4,
 "nbformat_minor": 5
}
