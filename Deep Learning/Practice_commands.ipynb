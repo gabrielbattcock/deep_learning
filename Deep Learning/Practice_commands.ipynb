{
 "cells": [
  {
   "attachments": {},
   "cell_type": "markdown",
   "id": "fb3b5e2b",
   "metadata": {},
   "source": [
    "# Check for commands"
   ]
  },
  {
   "attachments": {},
   "cell_type": "markdown",
   "id": "74fe4ff2",
   "metadata": {},
   "source": [
    "### The data"
   ]
  },
  {
   "attachments": {},
   "cell_type": "markdown",
   "id": "22f5711d",
   "metadata": {},
   "source": [
    "In this practical session we will use survey data taken from a behavioral risk factor surveillance system undertaken by the CDC in the US. We will use these data to predict the outcome of diabetes, using 21 features provided, including age, sex, BMI and a range of comorbidities (e.g. does the person have high blood pressure or high cholesterol?). \n",
    "\n",
    "The data is freely available on Kaggle: [Diabetes Health Indicators Dataset](https://www.kaggle.com/datasets/alexteboul/diabetes-health-indicators-dataset?resource=download). If you have an account, you can download directly from there. Otherwise, for convenience we have provided the CSV file on Moodle. \n",
    "\n",
    "Save the data to your computer. "
   ]
  },
  {
   "attachments": {},
   "cell_type": "markdown",
   "id": "b00081b4",
   "metadata": {},
   "source": [
    "### Reading Files and Loading Data"
   ]
  },
  {
   "attachments": {},
   "cell_type": "markdown",
   "id": "649e202d",
   "metadata": {},
   "source": [
    "In these sessions we will be using the following packages:\n",
    "- `pandas`, which is a package for data manipulation and analysis (with a name stemming from panel data, a type of longitudinal data collection)\n",
    "- `numpy`, often described as the fundamental package for scientific computing in Python\n",
    "- `matplotlib`, a library with comprehensive tools for data visualization\n",
    "- `seaborn`, a data visualization library based on matplotlib\n",
    "- `keras`, a package for deep learning\n",
    "\n",
    "You may not have previously installed the seaborn or keras packages. If so, do this using the code below. Likewise, install any of the other packages that you have not previously installed. "
   ]
  },
  {
   "attachments": {},
   "cell_type": "markdown",
   "id": "1a066dfc",
   "metadata": {},
   "source": [
    "If this doesn't work, try the following:"
   ]
  },
  {
   "cell_type": "code",
   "execution_count": 1,
   "id": "03edb3c6",
   "metadata": {},
   "outputs": [
    {
     "name": "stdout",
     "output_type": "stream",
     "text": [
      "Requirement already satisfied: seaborn in /Users/gabrielbattcock/opt/anaconda3/lib/python3.9/site-packages (0.11.2)\n",
      "Requirement already satisfied: matplotlib>=2.2 in /Users/gabrielbattcock/opt/anaconda3/lib/python3.9/site-packages (from seaborn) (3.5.2)\n",
      "Requirement already satisfied: pandas>=0.23 in /Users/gabrielbattcock/opt/anaconda3/lib/python3.9/site-packages (from seaborn) (1.4.4)\n",
      "Requirement already satisfied: numpy>=1.15 in /Users/gabrielbattcock/opt/anaconda3/lib/python3.9/site-packages (from seaborn) (1.21.5)\n",
      "Requirement already satisfied: scipy>=1.0 in /Users/gabrielbattcock/opt/anaconda3/lib/python3.9/site-packages (from seaborn) (1.7.3)\n",
      "Requirement already satisfied: cycler>=0.10 in /Users/gabrielbattcock/opt/anaconda3/lib/python3.9/site-packages (from matplotlib>=2.2->seaborn) (0.11.0)\n",
      "Requirement already satisfied: fonttools>=4.22.0 in /Users/gabrielbattcock/opt/anaconda3/lib/python3.9/site-packages (from matplotlib>=2.2->seaborn) (4.25.0)\n",
      "Requirement already satisfied: pyparsing>=2.2.1 in /Users/gabrielbattcock/opt/anaconda3/lib/python3.9/site-packages (from matplotlib>=2.2->seaborn) (3.0.9)\n",
      "Requirement already satisfied: packaging>=20.0 in /Users/gabrielbattcock/opt/anaconda3/lib/python3.9/site-packages (from matplotlib>=2.2->seaborn) (21.3)\n",
      "Requirement already satisfied: pillow>=6.2.0 in /Users/gabrielbattcock/opt/anaconda3/lib/python3.9/site-packages (from matplotlib>=2.2->seaborn) (9.2.0)\n",
      "Requirement already satisfied: kiwisolver>=1.0.1 in /Users/gabrielbattcock/opt/anaconda3/lib/python3.9/site-packages (from matplotlib>=2.2->seaborn) (1.4.2)\n",
      "Requirement already satisfied: python-dateutil>=2.7 in /Users/gabrielbattcock/opt/anaconda3/lib/python3.9/site-packages (from matplotlib>=2.2->seaborn) (2.8.2)\n",
      "Requirement already satisfied: pytz>=2020.1 in /Users/gabrielbattcock/opt/anaconda3/lib/python3.9/site-packages (from pandas>=0.23->seaborn) (2022.1)\n",
      "Requirement already satisfied: six>=1.5 in /Users/gabrielbattcock/opt/anaconda3/lib/python3.9/site-packages (from python-dateutil>=2.7->matplotlib>=2.2->seaborn) (1.16.0)\n"
     ]
    }
   ],
   "source": [
    "import sys\n",
    "!{sys.executable} -m pip install seaborn"
   ]
  },
  {
   "attachments": {},
   "cell_type": "markdown",
   "id": "bec57c8e",
   "metadata": {},
   "source": [
    "Make sure the following commands work:"
   ]
  },
  {
   "cell_type": "code",
   "execution_count": 2,
   "id": "38f3662a",
   "metadata": {},
   "outputs": [
    {
     "name": "stdout",
     "output_type": "stream",
     "text": [
      "Intel MKL WARNING: Support of Intel(R) Streaming SIMD Extensions 4.2 (Intel(R) SSE4.2) enabled only processors has been deprecated. Intel oneAPI Math Kernel Library 2025.0 will require Intel(R) Advanced Vector Extensions (Intel(R) AVX) instructions.\n",
      "Intel MKL WARNING: Support of Intel(R) Streaming SIMD Extensions 4.2 (Intel(R) SSE4.2) enabled only processors has been deprecated. Intel oneAPI Math Kernel Library 2025.0 will require Intel(R) Advanced Vector Extensions (Intel(R) AVX) instructions.\n"
     ]
    },
    {
     "name": "stderr",
     "output_type": "stream",
     "text": [
      "2023-05-24 11:35:44.884203: I tensorflow/core/platform/cpu_feature_guard.cc:193] This TensorFlow binary is optimized with oneAPI Deep Neural Network Library (oneDNN) to use the following CPU instructions in performance-critical operations:  SSE4.1 SSE4.2\n",
      "To enable them in other operations, rebuild TensorFlow with the appropriate compiler flags.\n"
     ]
    }
   ],
   "source": [
    "import matplotlib.pyplot as plt\n",
    "import pandas as pd\n",
    "import numpy as np\n",
    "import seaborn as sns\n",
    "\n",
    "import keras"
   ]
  },
  {
   "cell_type": "code",
   "execution_count": null,
   "id": "e8c57be2",
   "metadata": {},
   "outputs": [],
   "source": []
  },
  {
   "attachments": {},
   "cell_type": "markdown",
   "id": "8815f495",
   "metadata": {},
   "source": [
    "And make sure the data can be loaded:"
   ]
  },
  {
   "cell_type": "code",
   "execution_count": 3,
   "id": "1d9fff57",
   "metadata": {},
   "outputs": [],
   "source": [
    "#load the dataset\n",
    "import pandas as pd\n",
    "data = pd.read_csv(\"diabetes_012_health_indicators_BRFSS2015.csv\")"
   ]
  }
 ],
 "metadata": {
  "kernelspec": {
   "display_name": "Python 3 (ipykernel)",
   "language": "python",
   "name": "python3"
  },
  "language_info": {
   "codemirror_mode": {
    "name": "ipython",
    "version": 3
   },
   "file_extension": ".py",
   "mimetype": "text/x-python",
   "name": "python",
   "nbconvert_exporter": "python",
   "pygments_lexer": "ipython3",
   "version": "3.9.16"
  }
 },
 "nbformat": 4,
 "nbformat_minor": 5
}
